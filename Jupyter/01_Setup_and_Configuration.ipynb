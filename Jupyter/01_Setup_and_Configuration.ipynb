{
 "cells": [
  {
   "cell_type": "markdown",
   "id": "glacier-analysis-setup",
   "metadata": {
    "cellUniqueIdByVincent": "fe73e"
   },
   "source": [
    "# 🏔️ MODIS Albedo Analysis - Athabasca Glacier\n",
    "## Setup and Configuration\n",
    "\n",
    "**Université du Québec à Trois-Rivières - Projet de Maîtrise**\n",
    "\n",
    "This notebook sets up the environment and configuration for analyzing MODIS albedo data from the Athabasca Glacier in Alberta, Canada.\n",
    "\n",
    "---"
   ]
  },
  {
   "cell_type": "markdown",
   "id": "imports-section",
   "metadata": {
    "cellUniqueIdByVincent": "1cffd"
   },
   "source": [
    "## 📦 Import Required Libraries"
   ]
  },
  {
   "cell_type": "code",
   "execution_count": null,
   "id": "import-libraries",
   "metadata": {
    "cellUniqueIdByVincent": "dfd95"
   },
   "outputs": [],
   "source": [
    "import ee\n",
    "import geemap\n",
    "import pandas as pd\n",
    "import numpy as np\n",
    "import matplotlib.pyplot as plt\n",
    "import seaborn as sns\n",
    "import json\n",
    "import os\n",
    "from datetime import datetime, date\n",
    "import ipywidgets as widgets\n",
    "from IPython.display import display, HTML\n",
    "\n",
    "# Configure matplotlib for better plots\n",
    "plt.rcParams['figure.figsize'] = (12, 8)\n",
    "plt.rcParams['font.size'] = 10\n",
    "sns.set_style(\"whitegrid\")\n",
    "\n",
    "print(\"✅ Libraries imported successfully!\")"
   ]
  },
  {
   "cell_type": "markdown",
   "id": "ee-auth-section",
   "metadata": {
    "cellUniqueIdByVincent": "b3afb"
   },
   "source": [
    "## 🔐 Google Earth Engine Authentication\n",
    "\n",
    "**First time users:** Run `ee.Authenticate()` in a separate cell if you haven't authenticated before."
   ]
  },
  {
   "cell_type": "code",
   "execution_count": null,
   "id": "ee-authenticate",
   "metadata": {
    "cellUniqueIdByVincent": "7719c"
   },
   "outputs": [],
   "source": [
    "# Uncomment and run this line if you need to authenticate for the first time\n",
    "# ee.Authenticate()\n",
    "\n",
    "# Initialize Earth Engine\n",
    "ee.Initialize()\n",
    "print(\"✅ Google Earth Engine initialized successfully!\")"
   ]
  },
  {
   "cell_type": "markdown",
   "id": "glacier-config-section",
   "metadata": {
    "cellUniqueIdByVincent": "096d7"
   },
   "source": [
    "## 🏔️ Glacier Configuration\n",
    "\n",
    "Load the Athabasca Glacier boundary from GeoJSON file and set up the region of interest."
   ]
  },
  {
   "cell_type": "code",
   "execution_count": null,
   "id": "load-glacier-geometry",
   "metadata": {
    "cellUniqueIdByVincent": "b3531"
   },
   "outputs": [],
   "source": [
    "# Load the glacier mask GeoJSON\n",
    "geojson_path = '../Athabasca_mask_2023 (1).geojson'\n",
    "\n",
    "with open(geojson_path, 'r') as f:\n",
    "    athabasca_geojson = json.load(f)\n",
    "\n",
    "# Convert GeoJSON to Earth Engine geometry\n",
    "geometries = []\n",
    "for feature in athabasca_geojson['features']:\n",
    "    if feature['geometry']['type'] == 'MultiPolygon':\n",
    "        for polygon in feature['geometry']['coordinates']:\n",
    "            geometries.append(ee.Geometry.Polygon(polygon))\n",
    "    elif feature['geometry']['type'] == 'Polygon':\n",
    "        geometries.append(ee.Geometry.Polygon(feature['geometry']['coordinates']))\n",
    "\n",
    "# Create unified glacier region of interest\n",
    "athabasca_roi = ee.FeatureCollection(geometries).geometry()\n",
    "\n",
    "# Weather station coordinates\n",
    "ATHABASCA_STATION = [-117.245, 52.214]\n",
    "station_point = ee.Geometry.Point(ATHABASCA_STATION)\n",
    "\n",
    "# Calculate glacier area\n",
    "try:\n",
    "    glacier_area = athabasca_roi.area().divide(1e6).getInfo()  # Convert to km²\n",
    "    glacier_centroid = athabasca_roi.centroid().getInfo()\n",
    "    \n",
    "    print(f\"🏔️ GLACIER INFORMATION\")\n",
    "    print(f\"📏 Surface area: {glacier_area:.2f} km²\")\n",
    "    print(f\"📍 Center coordinates: {glacier_centroid['coordinates'][1]:.3f}°N, {glacier_centroid['coordinates'][0]:.3f}°W\")\n",
    "    print(f\"🌡️ Weather station: {ATHABASCA_STATION[1]:.3f}°N, {ATHABASCA_STATION[0]:.3f}°W\")\n",
    "except Exception as e:\n",
    "    print(f\"⚠️ Could not calculate glacier properties: {e}\")\n",
    "\n",
    "print(\"✅ Glacier geometry loaded successfully!\")"
   ]
  },
  {
   "cell_type": "markdown",
   "id": "modis-config-section",
   "metadata": {
    "cellUniqueIdByVincent": "92244"
   },
   "source": [
    "## 📡 MODIS Data Configuration\n",
    "\n",
    "Define MODIS collections and analysis parameters."
   ]
  },
  {
   "cell_type": "code",
   "execution_count": null,
   "id": "modis-configuration",
   "metadata": {
    "cellUniqueIdByVincent": "53aeb"
   },
   "outputs": [],
   "source": [
    "# MODIS Collections (Version 6.1)\n",
    "MODIS_COLLECTIONS = {\n",
    "    'snow_terra': 'MODIS/061/MOD10A1',    # Terra Snow Cover\n",
    "    'snow_aqua': 'MODIS/061/MYD10A1',     # Aqua Snow Cover\n",
    "    'broadband': 'MODIS/061/MCD43A3'      # Combined BRDF/Albedo\n",
    "}\n",
    "\n",
    "# Analysis periods\n",
    "PERIODS = {\n",
    "    'recent': ('2020-01-01', '2024-10-31'),\n",
    "    'fire_years': ('2017-01-01', '2021-12-31'),\n",
    "    'decade': ('2015-01-01', '2024-10-31'),\n",
    "    'full_recent': ('2019-01-01', '2024-10-31')\n",
    "}\n",
    "\n",
    "# Fire years for annotations\n",
    "FIRE_YEARS = {\n",
    "    2017: \"Feux BC\",\n",
    "    2018: \"Feux BC\", \n",
    "    2019: \"Feux AB\",\n",
    "    2020: \"Feux CA/US\",\n",
    "    2023: \"Feux record\"\n",
    "}\n",
    "\n",
    "# Default analysis parameters\n",
    "DEFAULT_SCALE = 500  # MODIS native resolution\n",
    "DEFAULT_QA_THRESHOLD = 1  # Quality threshold (≤1 = good quality)\n",
    "\n",
    "print(\"📡 MODIS CONFIGURATION\")\n",
    "print(f\"   • Terra Snow: {MODIS_COLLECTIONS['snow_terra']}\")\n",
    "print(f\"   • Aqua Snow: {MODIS_COLLECTIONS['snow_aqua']}\")\n",
    "print(f\"   • Broadband: {MODIS_COLLECTIONS['broadband']}\")\n",
    "print(f\"   • Native resolution: {DEFAULT_SCALE}m\")\n",
    "print(f\"   • Quality threshold: QA ≤ {DEFAULT_QA_THRESHOLD}\")\n",
    "print(\"✅ MODIS configuration ready!\")"
   ]
  },
  {
   "cell_type": "markdown",
   "id": "helper-functions-section",
   "metadata": {
    "cellUniqueIdByVincent": "7d76c"
   },
   "source": [
    "## 🛠️ Helper Functions\n",
    "\n",
    "Define utility functions for the analysis."
   ]
  },
  {
   "cell_type": "code",
   "execution_count": null,
   "id": "helper-functions",
   "metadata": {
    "cellUniqueIdByVincent": "2ab01"
   },
   "outputs": [],
   "source": [
    "def create_date_widget(description=\"Select Date:\", default_date=None):\n",
    "    \"\"\"Create a date picker widget\"\"\"\n",
    "    if default_date is None:\n",
    "        default_date = date(2023, 8, 15)\n",
    "    \n",
    "    return widgets.DatePicker(\n",
    "        description=description,\n",
    "        value=default_date,\n",
    "        disabled=False,\n",
    "        style={'description_width': 'initial'}\n",
    "    )\n",
    "\n",
    "def create_period_widget():\n",
    "    \"\"\"Create a period selection widget\"\"\"\n",
    "    return widgets.Dropdown(\n",
    "        options=list(PERIODS.keys()),\n",
    "        value='full_recent',\n",
    "        description='Period:',\n",
    "        disabled=False,\n",
    "        style={'description_width': 'initial'}\n",
    "    )\n",
    "\n",
    "def display_period_info(period_key):\n",
    "    \"\"\"Display information about a selected period\"\"\"\n",
    "    start, end = PERIODS[period_key]\n",
    "    print(f\"📅 Period: {period_key.title()}\")\n",
    "    print(f\"   Start: {start}\")\n",
    "    print(f\"   End: {end}\")\n",
    "    \n",
    "    # Calculate duration\n",
    "    start_dt = datetime.strptime(start, '%Y-%m-%d')\n",
    "    end_dt = datetime.strptime(end, '%Y-%m-%d')\n",
    "    duration = (end_dt - start_dt).days / 365.25\n",
    "    print(f\"   Duration: {duration:.1f} years\")\n",
    "\n",
    "print(\"✅ Helper functions defined!\")"
   ]
  },
  {
   "cell_type": "markdown",
   "id": "test-connection-section",
   "metadata": {
    "cellUniqueIdByVincent": "745c8"
   },
   "source": [
    "## 🔬 Test Connection and Data Availability\n",
    "\n",
    "Verify that we can access MODIS data for the glacier region."
   ]
  },
  {
   "cell_type": "code",
   "execution_count": null,
   "id": "test-data-access",
   "metadata": {
    "cellUniqueIdByVincent": "603ce"
   },
   "outputs": [],
   "source": [
    "# Test data access\n",
    "test_start = '2023-08-01'\n",
    "test_end = '2023-08-31'\n",
    "\n",
    "print(f\"🔍 Testing data access for {test_start} to {test_end}...\")\n",
    "\n",
    "try:\n",
    "    # Test Terra snow collection\n",
    "    terra_collection = ee.ImageCollection(MODIS_COLLECTIONS['snow_terra']) \\\n",
    "        .filterBounds(athabasca_roi) \\\n",
    "        .filterDate(test_start, test_end)\n",
    "    \n",
    "    terra_count = terra_collection.size().getInfo()\n",
    "    \n",
    "    # Test Aqua snow collection\n",
    "    aqua_collection = ee.ImageCollection(MODIS_COLLECTIONS['snow_aqua']) \\\n",
    "        .filterBounds(athabasca_roi) \\\n",
    "        .filterDate(test_start, test_end)\n",
    "    \n",
    "    aqua_count = aqua_collection.size().getInfo()\n",
    "    \n",
    "    # Test broadband collection\n",
    "    broad_collection = ee.ImageCollection(MODIS_COLLECTIONS['broadband']) \\\n",
    "        .filterBounds(athabasca_roi) \\\n",
    "        .filterDate(test_start, test_end)\n",
    "    \n",
    "    broad_count = broad_collection.size().getInfo()\n",
    "    \n",
    "    print(f\"📊 DATA AVAILABILITY TEST RESULTS:\")\n",
    "    print(f\"   • Terra (MOD10A1): {terra_count} images\")\n",
    "    print(f\"   • Aqua (MYD10A1): {aqua_count} images\")\n",
    "    print(f\"   • Broadband (MCD43A3): {broad_count} images\")\n",
    "    print(f\"   • Total snow images: {terra_count + aqua_count}\")\n",
    "    \n",
    "    if terra_count > 0 or aqua_count > 0:\n",
    "        print(\"✅ Data access successful!\")\n",
    "    else:\n",
    "        print(\"⚠️ No data found for test period\")\n",
    "        \n",
    "except Exception as e:\n",
    "    print(f\"❌ Error accessing data: {e}\")\n",
    "    print(\"Please check your Earth Engine authentication.\")"
   ]
  },
  {
   "cell_type": "markdown",
   "id": "next-steps-section",
   "metadata": {
    "cellUniqueIdByVincent": "8c8b6"
   },
   "source": [
    "## 📋 Next Steps\n",
    "\n",
    "Configuration is complete! You can now proceed to:\n",
    "\n",
    "1. **02_Interactive_Mapping.ipynb** - Interactive maps with date selectors\n",
    "2. **03_Data_Processing.ipynb** - MODIS data extraction and processing\n",
    "3. **04_Time_Series_Analysis.ipynb** - Albedo time series analysis\n",
    "4. **05_Melt_Season_Analysis.ipynb** - Specialized melt season analysis\n",
    "5. **06_Visualization.ipynb** - Advanced plotting and visualization\n",
    "\n",
    "---\n",
    "\n",
    "**🎯 Variables now available in this session:**\n",
    "- `athabasca_roi` - Glacier region of interest\n",
    "- `MODIS_COLLECTIONS` - MODIS data collections\n",
    "- `PERIODS` - Analysis time periods\n",
    "- `FIRE_YEARS` - Fire year annotations\n",
    "- Helper functions for widgets and utilities"
   ]
  }
 ],
 "metadata": {
  "language_info": {
   "name": "python"
  },
  "vincent": {
   "sessionId": "a36a22062723a7111169368c_2025-06-05T15-52-32-023Z"
  }
 },
 "nbformat": 4,
 "nbformat_minor": 5
}
